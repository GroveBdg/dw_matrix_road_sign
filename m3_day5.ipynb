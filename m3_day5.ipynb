{
  "nbformat": 4,
  "nbformat_minor": 0,
  "metadata": {
    "colab": {
      "name": "m3_day5.ipynb",
      "provenance": [],
      "collapsed_sections": [],
      "mount_file_id": "1dCZ2aPTj9A_s6XrRAYqM-XD9R3rWcQPH",
      "authorship_tag": "ABX9TyNMLvwAhqfqS+SBki1J6lx0"
    },
    "kernelspec": {
      "name": "python3",
      "display_name": "Python 3"
    },
    "accelerator": "GPU"
  },
  "cells": [
    {
      "cell_type": "code",
      "metadata": {
        "id": "VIqrMLharWlp",
        "colab_type": "code",
        "colab": {
          "base_uri": "https://localhost:8080/",
          "height": 51
        },
        "outputId": "d7602259-d267-4584-eaab-8bf9b39d72e7"
      },
      "source": [
        "import pandas as pd\n",
        "import numpy as np\n",
        "import os\n",
        "import datetime\n",
        "\n",
        "import tensorflow as tf\n",
        "from tensorflow.keras.models import Sequential\n",
        "from tensorflow.keras.layers import Conv2D, MaxPool2D, Dense, Flatten, Dropout\n",
        "from tensorflow.keras.utils import to_categorical\n",
        "\n",
        "%load_ext tensorboard\n",
        "\n",
        "import matplotlib.pyplot as plt\n",
        "from skimage import color, exposure\n",
        "\n",
        "from sklearn.metrics import accuracy_score\n",
        "\n",
        "from hyperopt import hp, STATUS_OK, tpe, Trials, fmin"
      ],
      "execution_count": 8,
      "outputs": [
        {
          "output_type": "stream",
          "text": [
            "The tensorboard extension is already loaded. To reload it, use:\n",
            "  %reload_ext tensorboard\n"
          ],
          "name": "stdout"
        }
      ]
    },
    {
      "cell_type": "code",
      "metadata": {
        "id": "QBtyF3Uzr38V",
        "colab_type": "code",
        "outputId": "548d3425-3d3a-4a5b-d87b-317f5ba2f208",
        "colab": {
          "base_uri": "https://localhost:8080/",
          "height": 34
        }
      },
      "source": [
        "cd '/content/drive/My Drive/Colab Notebooks/dw_matrix/matrix_three/dw_matrix_road_sign'"
      ],
      "execution_count": 9,
      "outputs": [
        {
          "output_type": "stream",
          "text": [
            "/content/drive/My Drive/Colab Notebooks/dw_matrix/matrix_three/dw_matrix_road_sign\n"
          ],
          "name": "stdout"
        }
      ]
    },
    {
      "cell_type": "code",
      "metadata": {
        "id": "bmxteI65r8SW",
        "colab_type": "code",
        "colab": {}
      },
      "source": [
        "train = pd.read_pickle('data/train.p')\n",
        "test = pd.read_pickle('data/test.p')\n",
        "\n",
        "X_train, y_train = train['features'], train['labels']\n",
        "X_test, y_test = test['features'], test['labels']"
      ],
      "execution_count": 0,
      "outputs": []
    },
    {
      "cell_type": "code",
      "metadata": {
        "id": "4sVU9CqJr-zD",
        "colab_type": "code",
        "colab": {}
      },
      "source": [
        "if y_train.ndim == 1: y_train = to_categorical(y_train)\n",
        "if y_test.ndim == 1: y_test = to_categorical(y_test)\n",
        "\n",
        "input_shape = X_train.shape[1:]\n",
        "num_classes = y_train.shape[1]"
      ],
      "execution_count": 0,
      "outputs": []
    },
    {
      "cell_type": "code",
      "metadata": {
        "id": "DXMPjwGIsEZh",
        "colab_type": "code",
        "colab": {}
      },
      "source": [
        "def train_model(model, X_train, y_train, params_fit={}):\n",
        "  model.compile(loss='categorical_crossentropy', optimizer='Adam', metrics=['accuracy'])\n",
        "\n",
        "  logdir = os.path.join(\"logs\", datetime.datetime.now().strftime(\"%Y%m%d-%H%M%S\"))\n",
        "  tensorboard_callbacks = tf.keras.callbacks.TensorBoard(logdir, histogram_freq=1)\n",
        "  \n",
        "  model.fit(\n",
        "      X_train,\n",
        "      y_train,\n",
        "      batch_size=params_fit.get('batch_size', 128),\n",
        "      epochs=params_fit.get('epochs', 5),\n",
        "      verbose=params_fit.get('verbose', 1),\n",
        "      validation_data=params_fit.get('validation_data', (X_train, y_train)),\n",
        "      callbacks=[tensorboard_callbacks]\n",
        "  )\n",
        "\n",
        "  return model\n",
        "\n",
        "\n",
        "def predict(model_trained, X_test, y_test, scoring=accuracy_score):\n",
        "  y_test_norm = np.argmax( y_test, axis=1 )   #  valid values\n",
        "\n",
        "  y_pred_prob = model_trained(X_test)  \n",
        "  y_pred = np.argmax( y_pred_prob, axis=1 )   #  forecasted values\n",
        "\n",
        "  return scoring(y_test_norm, y_pred)"
      ],
      "execution_count": 0,
      "outputs": []
    },
    {
      "cell_type": "code",
      "metadata": {
        "id": "-yzFb8tRsfSo",
        "colab_type": "code",
        "colab": {}
      },
      "source": [
        "def get_cnn_v5(input_shape, num_classes):\n",
        "  return Sequential([\n",
        "    Conv2D(filters=32, kernel_size=(3, 3), activation='relu', input_shape=input_shape),\n",
        "    Conv2D(filters=32, kernel_size=(3, 3), activation='relu', padding='same'),\n",
        "    MaxPool2D(),\n",
        "    Dropout(0.3),\n",
        "\n",
        "    Conv2D(filters=64, kernel_size=(3, 3), activation='relu', padding='same'),\n",
        "    Conv2D(filters=64, kernel_size=(3, 3), activation='relu'),\n",
        "    MaxPool2D(),\n",
        "    Dropout(0.3),\n",
        "\n",
        "    \n",
        "    Conv2D(filters=64, kernel_size=(3, 3), activation='relu', padding='same'),\n",
        "    Conv2D(filters=64, kernel_size=(3, 3), activation='relu'),\n",
        "    MaxPool2D(),\n",
        "    Dropout(0.3),\n",
        "\n",
        "    Flatten(),\n",
        "\n",
        "    Dense(1024, activation='relu'),  \n",
        "    Dropout(0.3),\n",
        "\n",
        "    Dense(1024, activation='relu'),  \n",
        "    Dropout(0.3),\n",
        "\n",
        "    Dense(num_classes, activation='softmax'),               \n",
        "  ])"
      ],
      "execution_count": 0,
      "outputs": []
    },
    {
      "cell_type": "code",
      "metadata": {
        "id": "opcyxXg8tqjJ",
        "colab_type": "code",
        "colab": {}
      },
      "source": [
        "X_train_gray = color.rgb2gray( X_train ).reshape(-1, 32, 32, 1)\n",
        "X_test_gray = color.rgb2gray( X_test ).reshape(-1, 32, 32, 1)"
      ],
      "execution_count": 0,
      "outputs": []
    },
    {
      "cell_type": "code",
      "metadata": {
        "id": "YkD8l5Jks8g6",
        "colab_type": "code",
        "outputId": "84ce3220-8cc5-4285-fe5f-7116aae06e4d",
        "colab": {
          "base_uri": "https://localhost:8080/",
          "height": 204
        }
      },
      "source": [
        "model = get_cnn_v5((32, 32, 1), num_classes)\n",
        "model_trained = train_model(model, X_train_gray, y_train, params_fit={})\n",
        "\n",
        "predict(model_trained, X_test_gray, y_test)"
      ],
      "execution_count": 15,
      "outputs": [
        {
          "output_type": "stream",
          "text": [
            "Epoch 1/5\n",
            "272/272 [==============================] - 7s 24ms/step - loss: 2.8381 - accuracy: 0.2145 - val_loss: 0.8411 - val_accuracy: 0.7422\n",
            "Epoch 2/5\n",
            "272/272 [==============================] - 6s 23ms/step - loss: 0.5477 - accuracy: 0.8244 - val_loss: 0.1382 - val_accuracy: 0.9566\n",
            "Epoch 3/5\n",
            "272/272 [==============================] - 6s 22ms/step - loss: 0.2109 - accuracy: 0.9337 - val_loss: 0.0442 - val_accuracy: 0.9869\n",
            "Epoch 4/5\n",
            "272/272 [==============================] - 6s 22ms/step - loss: 0.1427 - accuracy: 0.9555 - val_loss: 0.0312 - val_accuracy: 0.9913\n",
            "Epoch 5/5\n",
            "272/272 [==============================] - 6s 22ms/step - loss: 0.1117 - accuracy: 0.9651 - val_loss: 0.0234 - val_accuracy: 0.9933\n"
          ],
          "name": "stdout"
        },
        {
          "output_type": "execute_result",
          "data": {
            "text/plain": [
              "0.9605442176870749"
            ]
          },
          "metadata": {
            "tags": []
          },
          "execution_count": 15
        }
      ]
    },
    {
      "cell_type": "code",
      "metadata": {
        "id": "roaFefZbMXAv",
        "colab_type": "code",
        "colab": {}
      },
      "source": [
        "def get_model(params):\n",
        "  return Sequential([\n",
        "    Conv2D(filters=32, kernel_size=(3, 3), activation='relu', input_shape=input_shape),\n",
        "    Conv2D(filters=32, kernel_size=(3, 3), activation='relu', padding='same'),\n",
        "    MaxPool2D(),\n",
        "    Dropout(params['dropout_cnn_block_one']),\n",
        "\n",
        "    Conv2D(filters=64, kernel_size=(3, 3), activation='relu', padding='same'),\n",
        "    Conv2D(filters=64, kernel_size=(3, 3), activation='relu'),\n",
        "    MaxPool2D(),\n",
        "    Dropout(params['dropout_cnn_block_two']),\n",
        "\n",
        "    \n",
        "    Conv2D(filters=128, kernel_size=(3, 3), activation='relu', padding='same'),\n",
        "    Conv2D(filters=128, kernel_size=(3, 3), activation='relu'),\n",
        "    MaxPool2D(),\n",
        "    Dropout(params['dropout_cnn_block_three']),\n",
        "\n",
        "    Flatten(),\n",
        "\n",
        "    Dense(1024, activation='relu'),  \n",
        "    Dropout(params['dropout_dense_block_one']),\n",
        "\n",
        "    Dense(1024, activation='relu'),  \n",
        "    Dropout(params['dropout_dense_block_two']),\n",
        "\n",
        "    Dense(num_classes, activation='softmax'),               \n",
        "  ])"
      ],
      "execution_count": 0,
      "outputs": []
    },
    {
      "cell_type": "code",
      "metadata": {
        "id": "r6Cft8IwuNd_",
        "colab_type": "code",
        "colab": {}
      },
      "source": [
        "def func_obj(params):\n",
        "  model = get_model(params)\n",
        "  model.compile(loss='categorical_crossentropy', optimizer='Adam', metrics=['accuracy'])\n",
        "\n",
        "  model.fit(\n",
        "      X_train,\n",
        "      y_train,\n",
        "      batch_size=int(params.get('batch_size', 128)),\n",
        "      epochs=5,\n",
        "      verbose=0\n",
        "  )\n",
        "\n",
        "  score = model.evaluate(X_test, y_test, verbose=0)\n",
        "  accuracy = score[1]\n",
        "  print(params, 'accuracy={}'.format(accuracy))\n",
        "\n",
        "  return {'loss': -accuracy, 'status': STATUS_OK, 'model': model}"
      ],
      "execution_count": 0,
      "outputs": []
    },
    {
      "cell_type": "code",
      "metadata": {
        "id": "WAziE869KgTh",
        "colab_type": "code",
        "colab": {
          "base_uri": "https://localhost:8080/",
          "height": 1000
        },
        "outputId": "fb828f78-c55a-40c0-9eb9-e7fb1137515a"
      },
      "source": [
        "space = {\n",
        "    'batch_size': hp.quniform('batch_size', 100, 200, 10),\n",
        "    'dropout_cnn_block_one': hp.uniform('dropout_cnn_block_one', 0.3, 0.5),\n",
        "    'dropout_cnn_block_two': hp.uniform('dropout_cnn_block_two', 0.3, 0.5),\n",
        "    'dropout_cnn_block_three': hp.uniform('dropout_cnn_block_three', 0.3, 0.5),\n",
        "\n",
        "    'dropout_dense_block_one': hp.uniform('dropout_dense_block_one', 0.3, 0.7),\n",
        "    'dropout_dense_block_two': hp.uniform('dropout_dense_block_two', 0.3, 0.7),\n",
        "}\n",
        "\n",
        "best = fmin(\n",
        "    func_obj,\n",
        "    space,\n",
        "    tpe.suggest,\n",
        "    30,\n",
        "    Trials()\n",
        ")"
      ],
      "execution_count": 18,
      "outputs": [
        {
          "output_type": "stream",
          "text": [
            "{'batch_size': 130.0, 'dropout_cnn_block_one': 0.39701307807729797, 'dropout_cnn_block_three': 0.37037815132538043, 'dropout_cnn_block_two': 0.3706788615317399, 'dropout_dense_block_one': 0.3490292131455357, 'dropout_dense_block_two': 0.4670155431521912}\n",
            "accuracy=0.9630385637283325\n",
            "{'batch_size': 110.0, 'dropout_cnn_block_one': 0.31249557167150016, 'dropout_cnn_block_three': 0.31188616407023567, 'dropout_cnn_block_two': 0.45346565211510387, 'dropout_dense_block_one': 0.6481380472535384, 'dropout_dense_block_two': 0.5469129567584188}\n",
            "accuracy=0.9510204195976257\n",
            "{'batch_size': 150.0, 'dropout_cnn_block_one': 0.339803603607721, 'dropout_cnn_block_three': 0.3352991051822026, 'dropout_cnn_block_two': 0.35670721297550684, 'dropout_dense_block_one': 0.6964496606400332, 'dropout_dense_block_two': 0.4691599059805325}\n",
            "accuracy=0.8804988861083984\n",
            "{'batch_size': 190.0, 'dropout_cnn_block_one': 0.49177042529660575, 'dropout_cnn_block_three': 0.35662079892325677, 'dropout_cnn_block_two': 0.46625214402213266, 'dropout_dense_block_one': 0.6649911509439288, 'dropout_dense_block_two': 0.5224404650556922}\n",
            "accuracy=0.8689342141151428\n",
            "{'batch_size': 190.0, 'dropout_cnn_block_one': 0.49411111961142523, 'dropout_cnn_block_three': 0.3268728976110696, 'dropout_cnn_block_two': 0.4459594066997623, 'dropout_dense_block_one': 0.46786691970091404, 'dropout_dense_block_two': 0.6346115267296345}\n",
            "accuracy=0.9104308485984802\n",
            "{'batch_size': 180.0, 'dropout_cnn_block_one': 0.3227214235280431, 'dropout_cnn_block_three': 0.3964581043987932, 'dropout_cnn_block_two': 0.44921228234885213, 'dropout_dense_block_one': 0.5533585493133153, 'dropout_dense_block_two': 0.481579035142498}\n",
            "accuracy=0.9487528204917908\n",
            "{'batch_size': 110.0, 'dropout_cnn_block_one': 0.35482855998507484, 'dropout_cnn_block_three': 0.4926174334135238, 'dropout_cnn_block_two': 0.3279960031278745, 'dropout_dense_block_one': 0.6398571370138156, 'dropout_dense_block_two': 0.38810496332011263}\n",
            "accuracy=0.9539682269096375\n",
            "{'batch_size': 130.0, 'dropout_cnn_block_one': 0.3650226491049773, 'dropout_cnn_block_three': 0.43006222614282186, 'dropout_cnn_block_two': 0.33418356296725493, 'dropout_dense_block_one': 0.5521549676258471, 'dropout_dense_block_two': 0.5411953783661482}\n",
            "accuracy=0.9532879590988159\n",
            "{'batch_size': 200.0, 'dropout_cnn_block_one': 0.48928230273348533, 'dropout_cnn_block_three': 0.3997572169647986, 'dropout_cnn_block_two': 0.3938390301091076, 'dropout_dense_block_one': 0.4016287053886667, 'dropout_dense_block_two': 0.40076077226837115}\n",
            "accuracy=0.9315192699432373\n",
            "{'batch_size': 180.0, 'dropout_cnn_block_one': 0.36286435186724175, 'dropout_cnn_block_three': 0.40104260534313624, 'dropout_cnn_block_two': 0.4891912287947839, 'dropout_dense_block_one': 0.6402610700385882, 'dropout_dense_block_two': 0.6447929776578731}\n",
            "accuracy=0.8079364895820618\n",
            "{'batch_size': 150.0, 'dropout_cnn_block_one': 0.48950997522037526, 'dropout_cnn_block_three': 0.40305331345435585, 'dropout_cnn_block_two': 0.32025415211737057, 'dropout_dense_block_one': 0.5536065821691964, 'dropout_dense_block_two': 0.5044641579600554}\n",
            "accuracy=0.9362812042236328\n",
            "{'batch_size': 100.0, 'dropout_cnn_block_one': 0.355428302739812, 'dropout_cnn_block_three': 0.31812645456353694, 'dropout_cnn_block_two': 0.4060263357969799, 'dropout_dense_block_one': 0.5143829013122375, 'dropout_dense_block_two': 0.3865668369935522}\n",
            "accuracy=0.9634920358657837\n",
            "{'batch_size': 120.0, 'dropout_cnn_block_one': 0.48067385451634254, 'dropout_cnn_block_three': 0.4273887057358712, 'dropout_cnn_block_two': 0.36552535175583395, 'dropout_dense_block_one': 0.6729213355648858, 'dropout_dense_block_two': 0.5587967119130874}\n",
            "accuracy=0.7092970609664917\n",
            "{'batch_size': 190.0, 'dropout_cnn_block_one': 0.45677598981902173, 'dropout_cnn_block_three': 0.4909955205551879, 'dropout_cnn_block_two': 0.37628998381436574, 'dropout_dense_block_one': 0.6075788956345458, 'dropout_dense_block_two': 0.3438889453524737}\n",
            "accuracy=0.8716553449630737\n",
            "{'batch_size': 160.0, 'dropout_cnn_block_one': 0.34018666427344235, 'dropout_cnn_block_three': 0.3167010646881208, 'dropout_cnn_block_two': 0.35604565117339043, 'dropout_dense_block_one': 0.45530453455925335, 'dropout_dense_block_two': 0.42478619743959534}\n",
            "accuracy=0.9614512324333191\n",
            "{'batch_size': 130.0, 'dropout_cnn_block_one': 0.34156037823116203, 'dropout_cnn_block_three': 0.3925453795649866, 'dropout_cnn_block_two': 0.31111126526394767, 'dropout_dense_block_one': 0.3597259263903224, 'dropout_dense_block_two': 0.4109035975669648}\n",
            "accuracy=0.9693877696990967\n",
            "{'batch_size': 170.0, 'dropout_cnn_block_one': 0.48324758840400234, 'dropout_cnn_block_three': 0.34839062348269245, 'dropout_cnn_block_two': 0.45752683611939565, 'dropout_dense_block_one': 0.5955012932030272, 'dropout_dense_block_two': 0.5448318421857716}\n",
            "accuracy=0.8272109031677246\n",
            "{'batch_size': 190.0, 'dropout_cnn_block_one': 0.44360074543696604, 'dropout_cnn_block_three': 0.32068214833004277, 'dropout_cnn_block_two': 0.4060492706611371, 'dropout_dense_block_one': 0.49470469959471475, 'dropout_dense_block_two': 0.45422822834107623}\n",
            "accuracy=0.939002275466919\n",
            "{'batch_size': 140.0, 'dropout_cnn_block_one': 0.3830990818468831, 'dropout_cnn_block_three': 0.36050436410486963, 'dropout_cnn_block_two': 0.46254023370169056, 'dropout_dense_block_one': 0.36956086453786546, 'dropout_dense_block_two': 0.4840053760087246}\n",
            "accuracy=0.9269841313362122\n",
            "{'batch_size': 150.0, 'dropout_cnn_block_one': 0.48797081325203, 'dropout_cnn_block_three': 0.4943200307467271, 'dropout_cnn_block_two': 0.467585407596366, 'dropout_dense_block_one': 0.6090836217049604, 'dropout_dense_block_two': 0.3043080328401807}\n",
            "accuracy=0.8333333134651184\n",
            "{'batch_size': 100.0, 'dropout_cnn_block_one': 0.42247598983354995, 'dropout_cnn_block_three': 0.4705345043088892, 'dropout_cnn_block_two': 0.41520908532349576, 'dropout_dense_block_one': 0.3085089360196642, 'dropout_dense_block_two': 0.3375502886951446}\n",
            "accuracy=0.942630410194397\n",
            "{'batch_size': 100.0, 'dropout_cnn_block_one': 0.3874997215746667, 'dropout_cnn_block_three': 0.45910944431401474, 'dropout_cnn_block_two': 0.42554633470875664, 'dropout_dense_block_one': 0.42506388640020293, 'dropout_dense_block_two': 0.36662237443992884}\n",
            "accuracy=0.9643990993499756\n",
            "{'batch_size': 120.0, 'dropout_cnn_block_one': 0.41418007518114397, 'dropout_cnn_block_three': 0.4591498644697894, 'dropout_cnn_block_two': 0.3030792391037954, 'dropout_dense_block_one': 0.42003842553074483, 'dropout_dense_block_two': 0.30710642341829364}\n",
            "accuracy=0.9650793671607971\n",
            "{'batch_size': 130.0, 'dropout_cnn_block_one': 0.4159837736116124, 'dropout_cnn_block_three': 0.4362677845411537, 'dropout_cnn_block_two': 0.3041411738195545, 'dropout_dense_block_one': 0.3141911457708839, 'dropout_dense_block_two': 0.3234072671061026}\n",
            "accuracy=0.9725623726844788\n",
            "{'batch_size': 140.0, 'dropout_cnn_block_one': 0.43167306174524933, 'dropout_cnn_block_three': 0.42869329475590123, 'dropout_cnn_block_two': 0.3019133423933158, 'dropout_dense_block_one': 0.3183553741100551, 'dropout_dense_block_two': 0.4308169669126938}\n",
            "accuracy=0.940816342830658\n",
            "{'batch_size': 130.0, 'dropout_cnn_block_one': 0.4083363462189447, 'dropout_cnn_block_three': 0.3857229271268449, 'dropout_cnn_block_two': 0.34085357361884877, 'dropout_dense_block_one': 0.3491491856395542, 'dropout_dense_block_two': 0.3356026723575716}\n",
            "accuracy=0.9088435173034668\n",
            "{'batch_size': 140.0, 'dropout_cnn_block_one': 0.3020533290628454, 'dropout_cnn_block_three': 0.4436496519370513, 'dropout_cnn_block_two': 0.3100132857197436, 'dropout_dense_block_one': 0.38373690100468166, 'dropout_dense_block_two': 0.6944478235818237}\n",
            "accuracy=0.9621315002441406\n",
            "{'batch_size': 120.0, 'dropout_cnn_block_one': 0.46454241782852024, 'dropout_cnn_block_three': 0.4146430530706701, 'dropout_cnn_block_two': 0.31679362864940763, 'dropout_dense_block_one': 0.32053587017191326, 'dropout_dense_block_two': 0.4331149972671138}\n",
            "accuracy=0.9378684759140015\n",
            "{'batch_size': 160.0, 'dropout_cnn_block_one': 0.3942294272098503, 'dropout_cnn_block_three': 0.3840446166328772, 'dropout_cnn_block_two': 0.38127640081622305, 'dropout_dense_block_one': 0.34311578643007457, 'dropout_dense_block_two': 0.31928341314370057}\n",
            "accuracy=0.9668934345245361\n",
            "{'batch_size': 110.0, 'dropout_cnn_block_one': 0.4039745389566482, 'dropout_cnn_block_three': 0.3746181900321808, 'dropout_cnn_block_two': 0.34290558398876936, 'dropout_dense_block_one': 0.301227006624776, 'dropout_dense_block_two': 0.3588961502368424}\n",
            "accuracy=0.9655328989028931\n",
            "100%|██████████| 30/30 [10:07<00:00, 20.25s/it, best loss: -0.9725623726844788]\n"
          ],
          "name": "stdout"
        }
      ]
    }
  ]
}